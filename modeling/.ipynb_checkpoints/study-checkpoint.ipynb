{
 "cells": [
  {
   "cell_type": "markdown",
   "id": "0fe4a231",
   "metadata": {},
   "source": [
    "## Tensors 종류\n",
    "---\n",
    "\n",
    "CPU 사용하는 경우와 GPU 사용하는 경우의 Tensor 정의가 다른데 이건 구현하는데 상관이 없는가?\n",
    "e.g., CPU : torch.FloatTensor, GPU : torch.cuda.FloatTensor\n",
    "\n",
    "\n",
    "\n",
    "## random Tensor 선언\n",
    "---\n",
    "```python\n",
    "import torch\n",
    "a = torch.rand(3,3) # 3 x 3 텐서 생성, 0 ~ 1 사이의 uniform distribution random 값으로 선언\n",
    "\n",
    "a = torch.randn(3,3) # 3 x 3 텐서 생성, 평균이 0이고 분산이 1인 normal distribution random 값으로 선언\n",
    "\n",
    "```\n",
    "\n",
    "## Numpy 에서 Tensor 변환\n",
    "---\n",
    "```python\n",
    "import torch\n",
    "import numpy as np\n",
    "a = np.arrray([1,2,3,4])\n",
    "b = torch.Tensor(a)\n",
    "\n",
    "# tensor -> numpy\n",
    "a = torch.rand(3,3)\n",
    "b = a.numpy()\n",
    "```\n",
    "\n",
    "## torch.view() : Tensor의 형태 변환\n",
    "---\n",
    "```python\n",
    "a = torch.rand(3,3)\n",
    "a = a.view(1,1,3,3) # 4차원 행렬로 변환\n",
    "```\n",
    "\n",
    "## Tensor 계산을 GPU로\n",
    "```python\n",
    "import torch\n",
    "x = torch.rand(3,3)\n",
    "y = torch.rand(3,3)\n",
    "if torch.cuda.is_available():\n",
    "    x = x.cuda()\n",
    "    y = y.cuda()\n",
    "    sum = x + y\n",
    "```"
   ]
  },
  {
   "cell_type": "code",
   "execution_count": null,
   "id": "eb0ebfd7",
   "metadata": {},
   "outputs": [],
   "source": []
  }
 ],
 "metadata": {
  "kernelspec": {
   "display_name": "Python 3 (ipykernel)",
   "language": "python",
   "name": "python3"
  },
  "language_info": {
   "codemirror_mode": {
    "name": "ipython",
    "version": 3
   },
   "file_extension": ".py",
   "mimetype": "text/x-python",
   "name": "python",
   "nbconvert_exporter": "python",
   "pygments_lexer": "ipython3",
   "version": "3.9.16"
  },
  "toc": {
   "base_numbering": 1,
   "nav_menu": {},
   "number_sections": true,
   "sideBar": true,
   "skip_h1_title": false,
   "title_cell": "Table of Contents",
   "title_sidebar": "Contents",
   "toc_cell": false,
   "toc_position": {},
   "toc_section_display": true,
   "toc_window_display": false
  }
 },
 "nbformat": 4,
 "nbformat_minor": 5
}
